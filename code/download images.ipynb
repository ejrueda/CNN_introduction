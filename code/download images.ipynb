{
 "cells": [
  {
   "cell_type": "markdown",
   "id": "51c43033",
   "metadata": {},
   "source": [
    "- ejecutar el script en la consola de google"
   ]
  },
  {
   "cell_type": "code",
   "execution_count": null,
   "id": "83f5d495",
   "metadata": {},
   "outputs": [],
   "source": [
    "var urls = [];\n",
    "var count = 0;\n",
    "[...document.querySelectorAll('.rg_i')].forEach((element, index) => {\n",
    "   let el = element.parentElement.parentElement;\n",
    "   el.click();\n",
    "   count++;\n",
    "   setTimeout(() => {\n",
    "       let google_url = el.href;\n",
    "\n",
    "       let start = google_url.indexOf('=' , google_url.indexOf('imgurl'))+1;\n",
    "       let encoded = google_url.substring(start, google_url.indexOf('&', start));\n",
    "       let url = decodeURIComponent(encoded);\n",
    "       urls.push(url);\n",
    "       console.log(count);\n",
    "       if(--count == 0) {\n",
    "          let textToSave = urls.join('\\n');\n",
    "          let hiddenElement = document.createElement('a');\n",
    "          hiddenElement.href = 'data:attachment/text,' + encodeURI(textToSave);\n",
    "          hiddenElement.target = '_blank';\n",
    "          hiddenElement.download = 'urls.txt';\n",
    "          hiddenElement.click();\n",
    "       }\n",
    "\n",
    "   }, 50);\n",
    "});"
   ]
  },
  {
   "cell_type": "markdown",
   "id": "bd0398b2",
   "metadata": {},
   "source": [
    "- el código siguiente lee el .txt con los enlaces y descarga las imágenes"
   ]
  },
  {
   "cell_type": "code",
   "execution_count": 1,
   "id": "e8659341",
   "metadata": {},
   "outputs": [],
   "source": [
    "import requests"
   ]
  },
  {
   "cell_type": "markdown",
   "id": "8a3f4605",
   "metadata": {},
   "source": [
    "- cargamos el .txt generado por el script"
   ]
  },
  {
   "cell_type": "code",
   "execution_count": 2,
   "id": "120decf3",
   "metadata": {},
   "outputs": [
    {
     "name": "stdout",
     "output_type": "stream",
     "text": [
      "número de links:  400\n"
     ]
    }
   ],
   "source": [
    "urls = open(\"../data/urls_arboles.txt\").read().splitlines()\n",
    "print(\"número de links: \", len(urls))"
   ]
  },
  {
   "cell_type": "markdown",
   "id": "69a7538e",
   "metadata": {},
   "source": [
    "- Descargamos las imágenes y las guardamos en la ruta seleccionada."
   ]
  },
  {
   "cell_type": "code",
   "execution_count": null,
   "id": "ac11220f",
   "metadata": {
    "scrolled": true
   },
   "outputs": [
    {
     "name": "stdout",
     "output_type": "stream",
     "text": [
      "procesando:  207 de:  400\n",
      "exception\n",
      "procesando:  208 de:  400\n",
      "exception\n",
      "procesando:  209 de:  400\n",
      "procesando:  210 de:  400\n",
      "exception\n",
      "procesando:  211 de:  400\n",
      "procesando:  212 de:  400\n",
      "procesando:  213 de:  400\n",
      "procesando:  214 de:  400\n",
      "procesando:  215 de:  400\n",
      "procesando:  216 de:  400\n",
      "procesando:  217 de:  400\n",
      "procesando:  218 de:  400\n",
      "procesando:  219 de:  400\n",
      "procesando:  220 de:  400\n",
      "procesando:  221 de:  400\n",
      "procesando:  222 de:  400\n",
      "procesando:  223 de:  400\n",
      "procesando:  224 de:  400\n",
      "procesando:  225 de:  400\n",
      "procesando:  226 de:  400\n",
      "procesando:  227 de:  400\n",
      "procesando:  228 de:  400\n",
      "procesando:  229 de:  400\n",
      "procesando:  230 de:  400\n",
      "procesando:  231 de:  400\n",
      "procesando:  232 de:  400\n",
      "procesando:  233 de:  400\n",
      "procesando:  234 de:  400\n",
      "procesando:  235 de:  400\n",
      "procesando:  236 de:  400\n",
      "procesando:  237 de:  400\n",
      "procesando:  238 de:  400\n",
      "procesando:  239 de:  400\n",
      "procesando:  240 de:  400\n",
      "procesando:  241 de:  400\n",
      "procesando:  242 de:  400\n",
      "procesando:  243 de:  400\n",
      "procesando:  244 de:  400\n",
      "procesando:  245 de:  400\n",
      "procesando:  246 de:  400\n",
      "procesando:  247 de:  400\n",
      "procesando:  248 de:  400\n",
      "procesando:  249 de:  400\n",
      "procesando:  250 de:  400\n",
      "procesando:  251 de:  400\n",
      "procesando:  252 de:  400\n",
      "procesando:  253 de:  400\n",
      "procesando:  254 de:  400\n",
      "procesando:  255 de:  400\n",
      "procesando:  256 de:  400\n",
      "procesando:  257 de:  400\n",
      "procesando:  258 de:  400\n",
      "procesando:  259 de:  400\n",
      "procesando:  260 de:  400\n",
      "procesando:  261 de:  400\n",
      "procesando:  262 de:  400\n",
      "procesando:  263 de:  400\n",
      "procesando:  264 de:  400\n",
      "procesando:  265 de:  400\n",
      "procesando:  266 de:  400\n",
      "procesando:  267 de:  400\n",
      "procesando:  268 de:  400\n",
      "procesando:  269 de:  400\n",
      "exception\n",
      "procesando:  270 de:  400\n"
     ]
    }
   ],
   "source": [
    "ruta = \"../data/tree/\"\n",
    "count = 207\n",
    "for link in urls[207:]:\n",
    "    try:\n",
    "        print(\"procesando: \", count, \"de: \", len(urls))\n",
    "        response = requests.get(link)\n",
    "        formato = link.split(\"/\")[-1].split(\".\")[-1]\n",
    "        file = open(ruta + \"images_\" + str(count) + \".\" + formato, \"wb\")\n",
    "        file.write(response.content)\n",
    "        file.close()\n",
    "        count += 1 \n",
    "    except:\n",
    "        print(\"exception\")\n",
    "        count += 1 \n",
    "        pass"
   ]
  },
  {
   "cell_type": "code",
   "execution_count": null,
   "id": "e98d9a1d",
   "metadata": {},
   "outputs": [],
   "source": []
  }
 ],
 "metadata": {
  "kernelspec": {
   "display_name": "Python 3",
   "language": "python",
   "name": "python3"
  },
  "language_info": {
   "codemirror_mode": {
    "name": "ipython",
    "version": 3
   },
   "file_extension": ".py",
   "mimetype": "text/x-python",
   "name": "python",
   "nbconvert_exporter": "python",
   "pygments_lexer": "ipython3",
   "version": "3.8.5"
  }
 },
 "nbformat": 4,
 "nbformat_minor": 5
}
