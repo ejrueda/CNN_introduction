{
 "cells": [
  {
   "cell_type": "code",
   "execution_count": 1,
   "id": "3c2b80f6",
   "metadata": {},
   "outputs": [],
   "source": [
    "import tkinter as tk\n",
    "from tkinter import filedialog\n",
    "from PIL import Image, ImageTk\n",
    "import numpy as np\n",
    "import tensorflow as tf\n",
    "import matplotlib.pyplot as plt\n",
    "import cv2\n",
    "import time\n",
    "\n",
    "%matplotlib inline"
   ]
  },
  {
   "cell_type": "code",
   "execution_count": 11,
   "id": "023a785f",
   "metadata": {},
   "outputs": [],
   "source": [
    "class Root():\n",
    "    \n",
    "    def __init__(self):\n",
    "        self.root = tk.Tk()\n",
    "        self.root.title(\"Delivery robot Neural Network\")\n",
    "        self.root.minsize(350, 350)\n",
    "        self.root.maxsize(350, 350)\n",
    "        #para mostrar la foto\n",
    "        self.label_text1 = tk.Label(self.root,text=\"Input Image\")\n",
    "        self.label_text1.grid(column=0,row=1,padx= 100, pady= 20)\n",
    "        self.label_frame_1 = tk.LabelFrame(self.root, text=\"\")\n",
    "        self.label_frame_1.grid(column=0, row=3, padx=100)\n",
    "        \n",
    "        self.label_frame_2 = tk.LabelFrame(self.root, text=\"\")\n",
    "        self.label_frame_3 = tk.LabelFrame(self.root, text=\"Prediction\")\n",
    "        self.label_frame_3.grid(column=0, row=6, padx=100)\n",
    "        #self.root.iconphoto(False, tk.PhotoImage(file='../images/robot.png'))\n",
    "        #cargar el modelo tflite\n",
    "        self.interpreter = tf.lite.Interpreter(\"../model_tflite.tflite\")\n",
    "        self.interpreter.allocate_tensors()\n",
    "        self.input_vars = self.interpreter.get_input_details()\n",
    "        self.output_vars = self.interpreter.get_output_details()\n",
    "        self.input_shape = self.input_vars[0][\"shape\"]\n",
    "        self.ruta_guardar = \"../data/tf_lite_images/\"\n",
    "        self.count_photos = 0\n",
    "        \n",
    "        self.pre_btn = tk.Button(self.root, text=\"Run robot\", command=lambda: self.make_predictions())\n",
    "        self.pre_btn.grid(column=0, row=4, pady=15)\n",
    "        \n",
    "        self.v_class = tk.StringVar()\n",
    "        self.v_proba = tk.StringVar()\n",
    "        self.count_initial_predict = 0\n",
    "        \n",
    "        #self.pre_btn.bind('<Button-1>', lambda event: self.make_predictions())\n",
    "        \n",
    "        self.root.mainloop()\n",
    "        \n",
    "    def take_a_photo(self):\n",
    "        cam = cv2.VideoCapture(0)\n",
    "        flag_photo, img = cam.read()\n",
    "        if flag_photo:\n",
    "            cv2.namedWindow(\"cam-test\", cv2.WINDOW_AUTOSIZE)\n",
    "            #waitKey(0)\n",
    "            cv2.destroyWindow(\"cam-test\") \n",
    "            cam.release() #dejar de capturar la cámara\n",
    "            return img\n",
    "            \n",
    "    def make_predictions(self):\n",
    "        #tomamos la foto\n",
    "        img_show = self.take_a_photo()\n",
    "        \n",
    "        #por defecto opencv toma los colores como BGR, hay que convertir la imagen en RGB\n",
    "        img_colors = cv2.cvtColor(img_show, cv2.COLOR_RGB2BGR)\n",
    "        img_PIL = Image.fromarray(img_colors).resize((self.input_shape[1], self.input_shape[2]), Image.BICUBIC)\n",
    "        render = ImageTk.PhotoImage(img_PIL)\n",
    "        #hacemos la predicción\n",
    "        input_image = np.expand_dims(np.array(img_PIL, dtype=np.float32), axis=0)\n",
    "        self.interpreter.set_tensor(self.input_vars[0][\"index\"], input_image)\n",
    "        self.interpreter.invoke()\n",
    "        prediction = self.interpreter.get_tensor(self.output_vars[0][\"index\"])[0]\n",
    "        class_pre = np.argmax(prediction)\n",
    "        proba = prediction[class_pre]\n",
    "        #se guarda la imágen con la clase que predijo\n",
    "        self.photo_name = \"image_\"+str(self.count_photos)+\"_class_\"+str(class_pre)+\".jpg\"\n",
    "        cv2.imwrite(self.ruta_guardar + self.photo_name, img_show)\n",
    "        \n",
    "        self.count_photos += 1\n",
    "        \n",
    "        if self.count_initial_predict == 0:\n",
    "            self.img_1 = tk.Label(self.label_frame_1, image=render)\n",
    "            self.img_1.configure(image=render)\n",
    "            self.img_1.image=render\n",
    "            self.img_1.grid(column=0,row=3)\n",
    "\n",
    "            #pintar las predicciones\n",
    "            self.v_class.set(\"Class: \" + str(class_pre))\n",
    "            self.v_proba.set(\"Probability: \" + str(proba) + \"%\")\n",
    "            #texto de predicción\n",
    "            lb_class = tk.Label(self.label_frame_3, textvariable=self.v_class)\n",
    "            lb_class.grid(column=0,row=5)\n",
    "            lb_proba = tk.Label(self.label_frame_3, textvariable=self.v_proba)\n",
    "            lb_proba.grid(column=0,row=6)\n",
    "\n",
    "            self.count_initial_predict += 1\n",
    "        else:\n",
    "            self.img_1.configure(image=render)\n",
    "            self.img_1.image=render\n",
    "            self.v_class.set(\"Class: \" + str(class_pre))\n",
    "            self.v_proba.set(\"Probability: \" + str(proba) + \"%\")\n",
    "        \n",
    "        self.root.after(5000, self.make_predictions)\n",
    "            "
   ]
  },
  {
   "cell_type": "code",
   "execution_count": 12,
   "id": "579b74a5",
   "metadata": {},
   "outputs": [
    {
     "data": {
      "text/plain": [
       "<__main__.Root at 0x7f38dc59a190>"
      ]
     },
     "execution_count": 12,
     "metadata": {},
     "output_type": "execute_result"
    }
   ],
   "source": [
    "Root()"
   ]
  },
  {
   "cell_type": "code",
   "execution_count": null,
   "id": "3f63db60",
   "metadata": {},
   "outputs": [],
   "source": []
  },
  {
   "cell_type": "code",
   "execution_count": null,
   "id": "e51d12fe",
   "metadata": {},
   "outputs": [],
   "source": []
  },
  {
   "cell_type": "code",
   "execution_count": null,
   "id": "743aedf6",
   "metadata": {},
   "outputs": [],
   "source": []
  },
  {
   "cell_type": "code",
   "execution_count": null,
   "id": "c7e8f3a8",
   "metadata": {},
   "outputs": [],
   "source": []
  },
  {
   "cell_type": "code",
   "execution_count": null,
   "id": "2d93d03e",
   "metadata": {},
   "outputs": [],
   "source": []
  },
  {
   "cell_type": "code",
   "execution_count": null,
   "id": "f41fa79f",
   "metadata": {},
   "outputs": [],
   "source": []
  },
  {
   "cell_type": "code",
   "execution_count": null,
   "id": "b82e407b",
   "metadata": {},
   "outputs": [],
   "source": []
  },
  {
   "cell_type": "code",
   "execution_count": null,
   "id": "6d648906",
   "metadata": {},
   "outputs": [],
   "source": []
  },
  {
   "cell_type": "code",
   "execution_count": null,
   "id": "74d6dd04",
   "metadata": {},
   "outputs": [],
   "source": []
  }
 ],
 "metadata": {
  "kernelspec": {
   "display_name": "Python 3",
   "language": "python",
   "name": "python3"
  },
  "language_info": {
   "codemirror_mode": {
    "name": "ipython",
    "version": 3
   },
   "file_extension": ".py",
   "mimetype": "text/x-python",
   "name": "python",
   "nbconvert_exporter": "python",
   "pygments_lexer": "ipython3",
   "version": "3.8.5"
  }
 },
 "nbformat": 4,
 "nbformat_minor": 5
}
