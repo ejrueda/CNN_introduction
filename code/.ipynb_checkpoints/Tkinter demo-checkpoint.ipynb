{
 "cells": [
  {
   "cell_type": "code",
   "execution_count": 17,
   "id": "06cd5c4c",
   "metadata": {},
   "outputs": [
    {
     "ename": "TclError",
     "evalue": "can't use \"pyimage14\" as iconphoto: not a photo image",
     "output_type": "error",
     "traceback": [
      "\u001b[0;31m---------------------------------------------------------------------------\u001b[0m",
      "\u001b[0;31mTclError\u001b[0m                                  Traceback (most recent call last)",
      "\u001b[0;32m<ipython-input-17-420c7073efaf>\u001b[0m in \u001b[0;36m<module>\u001b[0;34m\u001b[0m\n\u001b[1;32m     67\u001b[0m \u001b[0;32mif\u001b[0m \u001b[0m__name__\u001b[0m \u001b[0;34m==\u001b[0m \u001b[0;34m'__main__'\u001b[0m\u001b[0;34m:\u001b[0m\u001b[0;34m\u001b[0m\u001b[0;34m\u001b[0m\u001b[0m\n\u001b[1;32m     68\u001b[0m \u001b[0;34m\u001b[0m\u001b[0m\n\u001b[0;32m---> 69\u001b[0;31m     \u001b[0mroot\u001b[0m \u001b[0;34m=\u001b[0m \u001b[0mRoot\u001b[0m\u001b[0;34m(\u001b[0m\u001b[0;34m)\u001b[0m\u001b[0;34m\u001b[0m\u001b[0;34m\u001b[0m\u001b[0m\n\u001b[0m\u001b[1;32m     70\u001b[0m     \u001b[0mroot\u001b[0m\u001b[0;34m.\u001b[0m\u001b[0mmainloop\u001b[0m\u001b[0;34m(\u001b[0m\u001b[0;34m)\u001b[0m\u001b[0;34m\u001b[0m\u001b[0;34m\u001b[0m\u001b[0m\n",
      "\u001b[0;32m<ipython-input-17-420c7073efaf>\u001b[0m in \u001b[0;36m__init__\u001b[0;34m(self)\u001b[0m\n\u001b[1;32m     24\u001b[0m         \u001b[0mself\u001b[0m\u001b[0;34m.\u001b[0m\u001b[0mv_class\u001b[0m \u001b[0;34m=\u001b[0m \u001b[0mtk\u001b[0m\u001b[0;34m.\u001b[0m\u001b[0mStringVar\u001b[0m\u001b[0;34m(\u001b[0m\u001b[0;34m)\u001b[0m\u001b[0;34m\u001b[0m\u001b[0;34m\u001b[0m\u001b[0m\n\u001b[1;32m     25\u001b[0m         \u001b[0mself\u001b[0m\u001b[0;34m.\u001b[0m\u001b[0mv_proba\u001b[0m \u001b[0;34m=\u001b[0m \u001b[0mtk\u001b[0m\u001b[0;34m.\u001b[0m\u001b[0mStringVar\u001b[0m\u001b[0;34m(\u001b[0m\u001b[0;34m)\u001b[0m\u001b[0;34m\u001b[0m\u001b[0;34m\u001b[0m\u001b[0m\n\u001b[0;32m---> 26\u001b[0;31m         \u001b[0mself\u001b[0m\u001b[0;34m.\u001b[0m\u001b[0miconphoto\u001b[0m\u001b[0;34m(\u001b[0m\u001b[0;32mFalse\u001b[0m\u001b[0;34m,\u001b[0m \u001b[0mtk\u001b[0m\u001b[0;34m.\u001b[0m\u001b[0mPhotoImage\u001b[0m\u001b[0;34m(\u001b[0m\u001b[0mfile\u001b[0m\u001b[0;34m=\u001b[0m\u001b[0;34m'../images/robot.png'\u001b[0m\u001b[0;34m)\u001b[0m\u001b[0;34m)\u001b[0m\u001b[0;34m\u001b[0m\u001b[0;34m\u001b[0m\u001b[0m\n\u001b[0m\u001b[1;32m     27\u001b[0m \u001b[0;34m\u001b[0m\u001b[0m\n\u001b[1;32m     28\u001b[0m     \u001b[0;32mdef\u001b[0m \u001b[0mbtton\u001b[0m\u001b[0;34m(\u001b[0m\u001b[0mself\u001b[0m\u001b[0;34m)\u001b[0m\u001b[0;34m:\u001b[0m\u001b[0;34m\u001b[0m\u001b[0;34m\u001b[0m\u001b[0m\n",
      "\u001b[0;32m/usr/lib/python3.8/tkinter/__init__.py\u001b[0m in \u001b[0;36mwm_iconphoto\u001b[0;34m(self, default, *args)\u001b[0m\n\u001b[1;32m   2116\u001b[0m             \u001b[0mself\u001b[0m\u001b[0;34m.\u001b[0m\u001b[0mtk\u001b[0m\u001b[0;34m.\u001b[0m\u001b[0mcall\u001b[0m\u001b[0;34m(\u001b[0m\u001b[0;34m'wm'\u001b[0m\u001b[0;34m,\u001b[0m \u001b[0;34m'iconphoto'\u001b[0m\u001b[0;34m,\u001b[0m \u001b[0mself\u001b[0m\u001b[0;34m.\u001b[0m\u001b[0m_w\u001b[0m\u001b[0;34m,\u001b[0m \u001b[0;34m\"-default\"\u001b[0m\u001b[0;34m,\u001b[0m \u001b[0;34m*\u001b[0m\u001b[0margs\u001b[0m\u001b[0;34m)\u001b[0m\u001b[0;34m\u001b[0m\u001b[0;34m\u001b[0m\u001b[0m\n\u001b[1;32m   2117\u001b[0m         \u001b[0;32melse\u001b[0m\u001b[0;34m:\u001b[0m\u001b[0;34m\u001b[0m\u001b[0;34m\u001b[0m\u001b[0m\n\u001b[0;32m-> 2118\u001b[0;31m             \u001b[0mself\u001b[0m\u001b[0;34m.\u001b[0m\u001b[0mtk\u001b[0m\u001b[0;34m.\u001b[0m\u001b[0mcall\u001b[0m\u001b[0;34m(\u001b[0m\u001b[0;34m'wm'\u001b[0m\u001b[0;34m,\u001b[0m \u001b[0;34m'iconphoto'\u001b[0m\u001b[0;34m,\u001b[0m \u001b[0mself\u001b[0m\u001b[0;34m.\u001b[0m\u001b[0m_w\u001b[0m\u001b[0;34m,\u001b[0m \u001b[0;34m*\u001b[0m\u001b[0margs\u001b[0m\u001b[0;34m)\u001b[0m\u001b[0;34m\u001b[0m\u001b[0;34m\u001b[0m\u001b[0m\n\u001b[0m\u001b[1;32m   2119\u001b[0m \u001b[0;34m\u001b[0m\u001b[0m\n\u001b[1;32m   2120\u001b[0m     \u001b[0miconphoto\u001b[0m \u001b[0;34m=\u001b[0m \u001b[0mwm_iconphoto\u001b[0m\u001b[0;34m\u001b[0m\u001b[0;34m\u001b[0m\u001b[0m\n",
      "\u001b[0;31mTclError\u001b[0m: can't use \"pyimage14\" as iconphoto: not a photo image"
     ]
    }
   ],
   "source": [
    "import tkinter as tk\n",
    "from tkinter import filedialog\n",
    "from PIL import Image, ImageTk\n",
    "import os, shutil\n",
    "import numpy as np\n",
    "\n",
    "class Root(tk.Tk):\n",
    "    \n",
    "    def __init__(self):\n",
    "        super(Root,self).__init__() #se hereda de la clase Tk\n",
    "        self.fileName = \"\"\n",
    "        self.title(\"Delivery robot Neural Network\")\n",
    "        self.minsize(350,500)\n",
    "        self.labelFrame = tk.LabelFrame(self,text=\"Open an image\")\n",
    "        self.labelFrame.grid(column=0,row=1,padx= 175, pady= 20)\n",
    "        self.btton()\n",
    "        #label frame para cuando se pinta la imágen\n",
    "        self.lf_2 = tk.LabelFrame(self, text=\"Input image\")\n",
    "        self.lf_2.grid(column=0,row=3)\n",
    "        #label frame para cuando se pinta la predicción\n",
    "        self.lf_3 = tk.LabelFrame(self, text=\"Prediction\")\n",
    "        self.lf_3.grid(column=0,row=5)\n",
    "        self.count_initial_predict = 0\n",
    "        self.v_class = tk.StringVar()\n",
    "        self.v_proba = tk.StringVar()\n",
    "        self.iconphoto(False, tk.PhotoImage(file='../images/robot.png'))\n",
    "        \n",
    "    def btton(self):\n",
    "        self.button = tk.Button(self.labelFrame, text=\"Select a photo\", command=self.fileDialog)\n",
    "        self.button.grid(column=0,row=1)\n",
    "        \n",
    "    def fileDialog(self):\n",
    "        self.fileName = filedialog.askopenfilename(initialdir = \"/home/edwin/Imágenes/\", title=\"Select A File\",\n",
    "                                                   filetypes=((\"jpeg\",\"*.jpg\"),(\"png\",\"*.png\")))\n",
    "        #self.label = tk.Label(self.labelFrame, text=\"\")\n",
    "        #self.label.grid(column =0,row = 2)\n",
    "        #self.label.configure(text = \"Selected image: \" + self.fileName.split(\"/\")[-1])\n",
    "        \n",
    "        #abrimos y dibujamos la imagen\n",
    "        load = Image.open(self.fileName).resize((224,224), Image.BICUBIC)\n",
    "        render = ImageTk.PhotoImage(load)\n",
    "        img = tk.Label(self.lf_2, image=render)\n",
    "        img.image = render\n",
    "        img.grid(column=0,row=3)\n",
    "        #pintamos el botón de predecir\n",
    "        pre_btn = tk.Button(self, text=\"Predict\", command=lambda: self.predict(np.array(load)))\n",
    "        pre_btn.grid(column=0, row=4, pady=15)\n",
    "        \n",
    "    def predict(self, image):\n",
    "        \n",
    "        idx = np.random.choice(range(image.shape[0]))\n",
    "        proba = np.random.choice(range(101))\n",
    "        if self.count_initial_predict == 0:\n",
    "            self.v_class.set(\"Class: \" + str(idx))\n",
    "            self.v_proba.set(\"Probability: \" + str(proba) + \"%\")\n",
    "            #texto de predicción\n",
    "            lb_class = tk.Label(self.lf_3, textvariable=self.v_class)\n",
    "            lb_class.grid(column=0,row=5)\n",
    "            lb_proba = tk.Label(self.lf_3, textvariable=self.v_proba)\n",
    "            lb_proba.grid(column=0,row=6)\n",
    "            self.count_initial_predict += 1\n",
    "        else:\n",
    "            self.v_class.set(\"Class: \" + str(idx))\n",
    "            self.v_proba.set(\"Probability: \" + str(proba) + \"%\")\n",
    "        \n",
    "        \n",
    "if __name__ == '__main__':\n",
    "    \n",
    "    root = Root()\n",
    "    root.mainloop()"
   ]
  },
  {
   "cell_type": "code",
   "execution_count": null,
   "id": "2d4ae625",
   "metadata": {},
   "outputs": [],
   "source": []
  },
  {
   "cell_type": "markdown",
   "id": "2aeb4142",
   "metadata": {},
   "source": []
  }
 ],
 "metadata": {
  "kernelspec": {
   "display_name": "Python 3",
   "language": "python",
   "name": "python3"
  },
  "language_info": {
   "codemirror_mode": {
    "name": "ipython",
    "version": 3
   },
   "file_extension": ".py",
   "mimetype": "text/x-python",
   "name": "python",
   "nbconvert_exporter": "python",
   "pygments_lexer": "ipython3",
   "version": "3.8.5"
  }
 },
 "nbformat": 4,
 "nbformat_minor": 5
}
