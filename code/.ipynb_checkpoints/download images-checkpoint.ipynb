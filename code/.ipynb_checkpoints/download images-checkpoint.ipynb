{
 "cells": [
  {
   "cell_type": "markdown",
   "id": "15cfc5a6",
   "metadata": {},
   "source": [
    "- ejecutar el script en la consola de google"
   ]
  },
  {
   "cell_type": "code",
   "execution_count": null,
   "id": "00ceba07",
   "metadata": {},
   "outputs": [],
   "source": [
    "var urls = [];\n",
    "var count = 0;\n",
    "[...document.querySelectorAll('.rg_i')].forEach((element, index) => {\n",
    "   let el = element.parentElement.parentElement;\n",
    "   el.click();\n",
    "   count++;\n",
    "   setTimeout(() => {\n",
    "       let google_url = el.href;\n",
    "\n",
    "       let start = google_url.indexOf('=' , google_url.indexOf('imgurl'))+1;\n",
    "       let encoded = google_url.substring(start, google_url.indexOf('&', start));\n",
    "       let url = decodeURIComponent(encoded);\n",
    "       urls.push(url);\n",
    "       console.log(count);\n",
    "       if(--count == 0) {\n",
    "          let textToSave = urls.join('\\n');\n",
    "          let hiddenElement = document.createElement('a');\n",
    "          hiddenElement.href = 'data:attachment/text,' + encodeURI(textToSave);\n",
    "          hiddenElement.target = '_blank';\n",
    "          hiddenElement.download = 'urls.txt';\n",
    "          hiddenElement.click();\n",
    "       }\n",
    "\n",
    "   }, 50);\n",
    "});"
   ]
  },
  {
   "cell_type": "markdown",
   "id": "7acd330d",
   "metadata": {},
   "source": [
    "- el código siguiente lee el .txt con los enlaces y descarga las imágenes"
   ]
  },
  {
   "cell_type": "code",
   "execution_count": 1,
   "id": "e8659341",
   "metadata": {},
   "outputs": [],
   "source": [
    "import requests"
   ]
  },
  {
   "cell_type": "markdown",
   "id": "8a3f4605",
   "metadata": {},
   "source": [
    "- cargamos el .txt generado por el script"
   ]
  },
  {
   "cell_type": "code",
   "execution_count": 2,
   "id": "120decf3",
   "metadata": {},
   "outputs": [
    {
     "name": "stdout",
     "output_type": "stream",
     "text": [
      "número de links:  400\n"
     ]
    }
   ],
   "source": [
    "urls = open(\"../data/urls_arboles.txt\").read().splitlines()\n",
    "print(\"número de links: \", len(urls))"
   ]
  },
  {
   "cell_type": "markdown",
   "id": "69a7538e",
   "metadata": {},
   "source": [
    "- Descargamos las imágenes y las guardamos en la ruta seleccionada."
   ]
  },
  {
   "cell_type": "code",
   "execution_count": null,
   "id": "ac11220f",
   "metadata": {
    "scrolled": true
   },
   "outputs": [
    {
     "name": "stdout",
     "output_type": "stream",
     "text": [
      "procesando:  207 de:  400\n"
     ]
    }
   ],
   "source": [
    "ruta = \"../data/tree/\"\n",
    "count = 207\n",
    "for link in urls[207:]:\n",
    "    try:\n",
    "        print(\"procesando: \", count, \"de: \", len(urls))\n",
    "        response = requests.get(link)\n",
    "        formato = link.split(\"/\")[-1].split(\".\")[-1]\n",
    "        file = open(ruta + \"images_\" + str(count) + \".\" + formato, \"wb\")\n",
    "        file.write(response.content)\n",
    "        file.close()\n",
    "        count += 1 \n",
    "    except:\n",
    "        print(\"exception\")\n",
    "        count += 1 \n",
    "        pass"
   ]
  },
  {
   "cell_type": "code",
   "execution_count": null,
   "id": "e98d9a1d",
   "metadata": {},
   "outputs": [],
   "source": []
  }
 ],
 "metadata": {
  "kernelspec": {
   "display_name": "Python 3",
   "language": "python",
   "name": "python3"
  },
  "language_info": {
   "codemirror_mode": {
    "name": "ipython",
    "version": 3
   },
   "file_extension": ".py",
   "mimetype": "text/x-python",
   "name": "python",
   "nbconvert_exporter": "python",
   "pygments_lexer": "ipython3",
   "version": "3.8.5"
  }
 },
 "nbformat": 4,
 "nbformat_minor": 5
}
