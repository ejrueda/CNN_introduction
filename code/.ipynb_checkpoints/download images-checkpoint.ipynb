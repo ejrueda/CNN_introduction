{
 "cells": [
  {
   "cell_type": "code",
   "execution_count": 2,
   "id": "e8659341",
   "metadata": {},
   "outputs": [],
   "source": [
    "import requests"
   ]
  },
  {
   "cell_type": "markdown",
   "id": "8a3f4605",
   "metadata": {},
   "source": [
    "- cargamos el .txt generado por el script"
   ]
  },
  {
   "cell_type": "code",
   "execution_count": 3,
   "id": "120decf3",
   "metadata": {},
   "outputs": [
    {
     "data": {
      "text/plain": [
       "'https://previews.123rf.com/images/kaspri/kaspri1107/kaspri110700004/9951592-bus-stop-sign-on-post-pole-traffic-road-roadsign-blue-isolated-signage.jpg'"
      ]
     },
     "execution_count": 3,
     "metadata": {},
     "output_type": "execute_result"
    }
   ],
   "source": [
    "urls = open(\"../data/urls.txt\").read().splitlines()\n",
    "urls[0]"
   ]
  },
  {
   "cell_type": "markdown",
   "id": "69a7538e",
   "metadata": {},
   "source": [
    "- Descargamos las imágenes y las guardamos en la ruta seleccionada."
   ]
  },
  {
   "cell_type": "code",
   "execution_count": 4,
   "id": "ac11220f",
   "metadata": {},
   "outputs": [
    {
     "name": "stdout",
     "output_type": "stream",
     "text": [
      "procesando:  124 de:  200\n",
      "procesando:  125 de:  200\n",
      "procesando:  126 de:  200\n",
      "procesando:  127 de:  200\n",
      "procesando:  128 de:  200\n",
      "procesando:  129 de:  200\n",
      "procesando:  130 de:  200\n",
      "procesando:  131 de:  200\n",
      "procesando:  132 de:  200\n",
      "procesando:  133 de:  200\n",
      "procesando:  134 de:  200\n",
      "procesando:  135 de:  200\n",
      "procesando:  136 de:  200\n",
      "procesando:  137 de:  200\n",
      "procesando:  138 de:  200\n",
      "procesando:  139 de:  200\n",
      "procesando:  140 de:  200\n",
      "procesando:  141 de:  200\n",
      "procesando:  142 de:  200\n",
      "procesando:  143 de:  200\n",
      "procesando:  144 de:  200\n",
      "procesando:  145 de:  200\n",
      "procesando:  146 de:  200\n",
      "procesando:  147 de:  200\n",
      "procesando:  148 de:  200\n",
      "procesando:  149 de:  200\n",
      "procesando:  150 de:  200\n",
      "procesando:  151 de:  200\n",
      "procesando:  152 de:  200\n",
      "procesando:  153 de:  200\n",
      "procesando:  154 de:  200\n",
      "procesando:  155 de:  200\n",
      "procesando:  156 de:  200\n",
      "procesando:  157 de:  200\n",
      "procesando:  158 de:  200\n",
      "procesando:  159 de:  200\n",
      "procesando:  160 de:  200\n",
      "procesando:  161 de:  200\n",
      "procesando:  162 de:  200\n",
      "procesando:  163 de:  200\n",
      "procesando:  164 de:  200\n",
      "procesando:  165 de:  200\n",
      "procesando:  166 de:  200\n",
      "procesando:  167 de:  200\n",
      "procesando:  168 de:  200\n",
      "procesando:  169 de:  200\n",
      "procesando:  170 de:  200\n",
      "procesando:  171 de:  200\n",
      "procesando:  172 de:  200\n",
      "procesando:  173 de:  200\n",
      "procesando:  174 de:  200\n",
      "procesando:  175 de:  200\n",
      "procesando:  176 de:  200\n",
      "procesando:  177 de:  200\n",
      "procesando:  178 de:  200\n",
      "procesando:  179 de:  200\n",
      "procesando:  180 de:  200\n",
      "procesando:  181 de:  200\n",
      "procesando:  182 de:  200\n",
      "procesando:  183 de:  200\n",
      "procesando:  184 de:  200\n",
      "procesando:  185 de:  200\n",
      "procesando:  186 de:  200\n",
      "procesando:  187 de:  200\n",
      "procesando:  188 de:  200\n",
      "procesando:  189 de:  200\n",
      "procesando:  190 de:  200\n",
      "procesando:  191 de:  200\n",
      "procesando:  192 de:  200\n",
      "procesando:  193 de:  200\n",
      "procesando:  194 de:  200\n",
      "procesando:  195 de:  200\n",
      "procesando:  196 de:  200\n",
      "procesando:  197 de:  200\n",
      "procesando:  198 de:  200\n",
      "procesando:  199 de:  200\n"
     ]
    }
   ],
   "source": [
    "ruta = \"../data/stop_signals/\"\n",
    "count = 0\n",
    "for link in urls:\n",
    "    try:\n",
    "        print(\"procesando: \", count, \"de: \", len(urls))\n",
    "        response = requests.get(link)\n",
    "        formato = link.split(\"/\")[-1].split(\".\")[-1]\n",
    "        file = open(ruta + \"images_\" + str(count) + \".\" + formato, \"wb\")\n",
    "        file.write(response.content)\n",
    "        file.close()\n",
    "        count += 1 \n",
    "    except:\n",
    "        count += 1 \n",
    "        pass"
   ]
  },
  {
   "cell_type": "code",
   "execution_count": null,
   "id": "e98d9a1d",
   "metadata": {},
   "outputs": [],
   "source": []
  }
 ],
 "metadata": {
  "kernelspec": {
   "display_name": "Python 3",
   "language": "python",
   "name": "python3"
  },
  "language_info": {
   "codemirror_mode": {
    "name": "ipython",
    "version": 3
   },
   "file_extension": ".py",
   "mimetype": "text/x-python",
   "name": "python",
   "nbconvert_exporter": "python",
   "pygments_lexer": "ipython3",
   "version": "3.8.5"
  }
 },
 "nbformat": 4,
 "nbformat_minor": 5
}
