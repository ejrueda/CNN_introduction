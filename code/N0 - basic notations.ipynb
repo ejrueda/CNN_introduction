{
 "cells": [
  {
   "cell_type": "markdown",
   "metadata": {},
   "source": [
    "<h1><center>Basic Notations (Python/Tensorflow)</center></h1>"
   ]
  },
  {
   "cell_type": "markdown",
   "metadata": {},
   "source": [
    "### Autor\n",
    "- Nombre: Edwin Jahir Rueda Rojas\n",
    "- email: ejrueda95g@gmail.com"
   ]
  },
  {
   "cell_type": "markdown",
   "metadata": {},
   "source": [
    "### Numpy\n",
    "- Numpy es la librería (paquete) fundamental en python para computación científica.\n",
    "- Permite representar vectores, matrices, operaciones entre vectores, matrices, etc.\n",
    "\n",
    "Referencia [Python:Numpy](https://numpy.org/doc/stable/user/whatisnumpy.html)"
   ]
  },
  {
   "cell_type": "code",
   "execution_count": 2,
   "metadata": {},
   "outputs": [
    {
     "data": {
      "text/plain": [
       "array([1, 2, 3, 4])"
      ]
     },
     "execution_count": 2,
     "metadata": {},
     "output_type": "execute_result"
    }
   ],
   "source": [
    "import numpy as np\n",
    "\n",
    "v = np.array([1,2,3,4])\n",
    "v"
   ]
  },
  {
   "cell_type": "markdown",
   "metadata": {},
   "source": [
    "#### Broadcasting\n",
    "- El broadcasting permite ajustar las dimensiones para poder hacer operaciones entre vectores y matrices"
   ]
  },
  {
   "cell_type": "code",
   "execution_count": 3,
   "metadata": {},
   "outputs": [
    {
     "name": "stdout",
     "output_type": "stream",
     "text": [
      "v1: [1 2 3 4]\n",
      "v2: [2 2 2 2]\n",
      "v1*v2: [2 4 6 8]\n"
     ]
    }
   ],
   "source": [
    "v2 = np.array([2,2,2,2])\n",
    "print(\"v1:\", v)\n",
    "print(\"v2:\", v2)\n",
    "print(\"v1*v2:\", v*v2)"
   ]
  },
  {
   "cell_type": "code",
   "execution_count": 4,
   "metadata": {},
   "outputs": [
    {
     "name": "stdout",
     "output_type": "stream",
     "text": [
      "v1: [1 2 3 4]\n",
      "v2: [2]\n",
      "v1*v2 [2 4 6 8]\n"
     ]
    }
   ],
   "source": [
    "#con broadcastings\n",
    "v2 = np.array([2])\n",
    "print(\"v1:\", v)\n",
    "print(\"v2:\", v2)\n",
    "print(\"v1*v2\", v*v2)"
   ]
  },
  {
   "cell_type": "markdown",
   "metadata": {},
   "source": [
    "### Idexación \n",
    "- Python indexa desde el valor 0 en adelante."
   ]
  },
  {
   "cell_type": "code",
   "execution_count": 11,
   "metadata": {},
   "outputs": [
    {
     "name": "stdout",
     "output_type": "stream",
     "text": [
      "v: [1 2 3 4]\n",
      "v[0]: 1\n",
      "v[1]: 2\n",
      "v[2]: 3\n",
      "v[3]: 4\n"
     ]
    }
   ],
   "source": [
    "print(\"v:\",v)\n",
    "for i in range(len(v)):\n",
    "    print(\"v[\"+str(i)+\"]:\",v[i])"
   ]
  },
  {
   "cell_type": "markdown",
   "metadata": {},
   "source": [
    "- seleccionar solo un intervalo de índices"
   ]
  },
  {
   "cell_type": "code",
   "execution_count": 19,
   "metadata": {},
   "outputs": [
    {
     "name": "stdout",
     "output_type": "stream",
     "text": [
      "vector: [0.63355006 0.90122822 0.91494459 0.31402356 0.44055193]\n",
      "\n",
      "vector[2:4]: [0.91494459 0.31402356 0.44055193]\n",
      "vector[1:]: [0.90122822 0.91494459 0.31402356 0.44055193]\n"
     ]
    }
   ],
   "source": [
    "vector = np.random.uniform(size=(5))\n",
    "print(\"vector:\", vector)\n",
    "print()\n",
    "print(\"vector[2:4]:\", vector[2:5])\n",
    "print(\"vector[1:]:\", vector[1:])"
   ]
  },
  {
   "cell_type": "code",
   "execution_count": 30,
   "metadata": {},
   "outputs": [
    {
     "data": {
      "text/plain": [
       "array([0.44055193, 0.31402356, 0.91494459, 0.90122822, 0.63355006])"
      ]
     },
     "execution_count": 30,
     "metadata": {},
     "output_type": "execute_result"
    }
   ],
   "source": [
    "# Para invertir el vector\n",
    "vector[::-1]"
   ]
  },
  {
   "cell_type": "code",
   "execution_count": 34,
   "metadata": {},
   "outputs": [
    {
     "name": "stdout",
     "output_type": "stream",
     "text": [
      "vector: [0.63355006 0.90122822 0.91494459 0.31402356 0.44055193]\n",
      "índice: 2\n",
      "<< número: 0.914944592709649\n"
     ]
    }
   ],
   "source": [
    "#para seleccionar el índice del número mas grande en el vector\n",
    "max_index = np.argmax(vector)\n",
    "print(\"vector:\", vector)\n",
    "print(\"índice:\", max_index)\n",
    "print(\"<< número:\", vector[max_index])"
   ]
  },
  {
   "cell_type": "markdown",
   "metadata": {},
   "source": [
    "### Tensorflow\n",
    "- Tensorflow implementa tensores, los cuales pueden ser multidimensionales. (son muy semejantes a los arrays de numpy)\n",
    "    - Variables\n",
    "    - Constantes\n",
    "\n",
    "- Lo tensores se enumeran en base a su <b>Rank</b>\n",
    "    - Rank 0: Es un escalar, no tiene dimensiones.\n",
    "    - Rank 1: Vector de una dimensión.\n",
    "    - Rank 2: Matrix con dos o más dimensiones\n",
    "    \n",
    "Nota: Tensorflow también cuenta con <b>broadcasting</b>\n",
    "    \n",
    "Referencias [Tensorflow:Tensores](https://www.tensorflow.org/guide/tensor)"
   ]
  },
  {
   "cell_type": "code",
   "execution_count": 68,
   "metadata": {},
   "outputs": [
    {
     "name": "stdout",
     "output_type": "stream",
     "text": [
      "Tensor: <tf.Variable 'Variable:0' shape=(4,) dtype=int32, numpy=array([1, 6, 2, 4], dtype=int32)>\n",
      "Array: [1 6 2 4]\n",
      "Tensor*2: tf.Tensor([ 2 12  4  8], shape=(4,), dtype=int32)\n"
     ]
    }
   ],
   "source": [
    "import tensorflow as tf\n",
    "\n",
    "t1 = tf.Variable([1,6,2,4])\n",
    "print(\"Tensor:\", t1)\n",
    "print(\"Array:\", t1.numpy())\n",
    "print(\"Tensor*2:\", t1*2)"
   ]
  },
  {
   "cell_type": "markdown",
   "metadata": {},
   "source": [
    "- Cuando se entrenan algoritmos con tensorflow avanzado, se tiene que trabajar siempre con tensores, si se mezclan tensores y arrays de numpy, los grafos de tensorflow se vuelven menos eficientes."
   ]
  },
  {
   "cell_type": "code",
   "execution_count": 62,
   "metadata": {},
   "outputs": [
    {
     "data": {
      "text/plain": [
       "<tf.Tensor: shape=(4,), dtype=int32, numpy=array([ 2, 12,  4,  8], dtype=int32)>"
      ]
     },
     "execution_count": 62,
     "metadata": {},
     "output_type": "execute_result"
    }
   ],
   "source": [
    "t1*tf.constant(2)"
   ]
  },
  {
   "cell_type": "code",
   "execution_count": 63,
   "metadata": {},
   "outputs": [
    {
     "data": {
      "text/plain": [
       "<tf.Tensor: shape=(2,), dtype=int32, numpy=array([6, 2], dtype=int32)>"
      ]
     },
     "execution_count": 63,
     "metadata": {},
     "output_type": "execute_result"
    }
   ],
   "source": [
    "#indexación\n",
    "t1[1:3]"
   ]
  },
  {
   "cell_type": "code",
   "execution_count": 64,
   "metadata": {},
   "outputs": [
    {
     "data": {
      "text/plain": [
       "<tf.Tensor: shape=(), dtype=int64, numpy=1>"
      ]
     },
     "execution_count": 64,
     "metadata": {},
     "output_type": "execute_result"
    }
   ],
   "source": [
    "#selecciona el índice donde estpa el mayor número\n",
    "tf.argmax(t1)"
   ]
  },
  {
   "cell_type": "code",
   "execution_count": 65,
   "metadata": {},
   "outputs": [
    {
     "data": {
      "text/plain": [
       "<tf.Tensor: shape=(4,), dtype=int32, numpy=array([0, 2, 3, 1], dtype=int32)>"
      ]
     },
     "execution_count": 65,
     "metadata": {},
     "output_type": "execute_result"
    }
   ],
   "source": [
    "#devuelve la indexación que ordena el tensor\n",
    "tf.argsort(t1)"
   ]
  },
  {
   "cell_type": "code",
   "execution_count": null,
   "metadata": {},
   "outputs": [],
   "source": []
  }
 ],
 "metadata": {
  "kernelspec": {
   "display_name": "Python 3",
   "language": "python",
   "name": "python3"
  },
  "language_info": {
   "codemirror_mode": {
    "name": "ipython",
    "version": 3
   },
   "file_extension": ".py",
   "mimetype": "text/x-python",
   "name": "python",
   "nbconvert_exporter": "python",
   "pygments_lexer": "ipython3",
   "version": "3.6.9"
  }
 },
 "nbformat": 4,
 "nbformat_minor": 2
}
