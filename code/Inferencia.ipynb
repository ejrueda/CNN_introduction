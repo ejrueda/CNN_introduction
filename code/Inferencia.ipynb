{
 "cells": [
  {
   "cell_type": "code",
   "execution_count": 1,
   "id": "45277c36",
   "metadata": {},
   "outputs": [],
   "source": [
    "import tensorflow as tf\n",
    "import numpy as np\n",
    "import PIL"
   ]
  },
  {
   "cell_type": "code",
   "execution_count": 2,
   "id": "1880b2bd",
   "metadata": {},
   "outputs": [],
   "source": [
    "converter = tf.lite.TFLiteConverter.from_saved_model(\"../models_aug/\")"
   ]
  },
  {
   "cell_type": "code",
   "execution_count": 5,
   "id": "c650aa46",
   "metadata": {},
   "outputs": [
    {
     "name": "stdout",
     "output_type": "stream",
     "text": [
      "INFO:tensorflow:Assets written to: /tmp/tmpxh2rsvq0/assets\n"
     ]
    }
   ],
   "source": [
    "tflite = converter.convert()"
   ]
  },
  {
   "cell_type": "code",
   "execution_count": 6,
   "id": "3eec991b",
   "metadata": {},
   "outputs": [
    {
     "data": {
      "text/plain": [
       "63599976"
      ]
     },
     "execution_count": 6,
     "metadata": {},
     "output_type": "execute_result"
    }
   ],
   "source": [
    "open(\"../model_test_tflite.tflite\", \"wb\").write(tflite)"
   ]
  },
  {
   "cell_type": "code",
   "execution_count": 7,
   "id": "55718f6c",
   "metadata": {},
   "outputs": [],
   "source": [
    "interpreter = tf.lite.Interpreter(\"../model_test_tflite.tflite\")"
   ]
  },
  {
   "cell_type": "code",
   "execution_count": 8,
   "id": "a49262ec",
   "metadata": {},
   "outputs": [],
   "source": [
    "interpreter.allocate_tensors()"
   ]
  },
  {
   "cell_type": "code",
   "execution_count": 9,
   "id": "9c9e9dd7",
   "metadata": {},
   "outputs": [],
   "source": [
    "input_vars = interpreter.get_input_details()\n",
    "output_vars = interpreter.get_output_details()"
   ]
  },
  {
   "cell_type": "code",
   "execution_count": 10,
   "id": "78ea265b",
   "metadata": {},
   "outputs": [
    {
     "data": {
      "text/plain": [
       "[{'name': 'rescaling_input',\n",
       "  'index': 0,\n",
       "  'shape': array([  1, 100, 100,   3], dtype=int32),\n",
       "  'shape_signature': array([ -1, 100, 100,   3], dtype=int32),\n",
       "  'dtype': numpy.float32,\n",
       "  'quantization': (0.0, 0),\n",
       "  'quantization_parameters': {'scales': array([], dtype=float32),\n",
       "   'zero_points': array([], dtype=int32),\n",
       "   'quantized_dimension': 0},\n",
       "  'sparsity_parameters': {}}]"
      ]
     },
     "execution_count": 10,
     "metadata": {},
     "output_type": "execute_result"
    }
   ],
   "source": [
    "input_vars"
   ]
  },
  {
   "cell_type": "markdown",
   "id": "17b37e66",
   "metadata": {},
   "source": [
    "### Predicción"
   ]
  },
  {
   "cell_type": "code",
   "execution_count": 11,
   "id": "aca7f39a",
   "metadata": {},
   "outputs": [
    {
     "name": "stdout",
     "output_type": "stream",
     "text": [
      "(1, 100, 100, 3)\n",
      "[[3.9668947e-02 3.3750921e-02 1.1392370e-02 4.6412807e-04 7.3147410e-01\n",
      "  4.6314914e-03 1.2052013e-02 7.6333478e-02 1.2498409e-03 8.8304020e-02\n",
      "  6.7862333e-04]]\n"
     ]
    }
   ],
   "source": [
    "input_shape = input_vars[0][\"shape\"]\n",
    "img = PIL.Image.open(\"../data/archive/raw-img/gallina/1001.jpeg\").resize((input_shape[1],input_shape[2]),\n",
    "                                                                        PIL.Image.BICUBIC)\n",
    "img_array = np.expand_dims(np.array(img, dtype=np.float32), axis=0)\n",
    "print(img_array.shape)\n",
    "\n",
    "#predecimos\n",
    "interpreter.set_tensor(input_vars[0][\"index\"], img_array)\n",
    "interpreter.invoke()\n",
    "output_tensor = interpreter.get_tensor(output_vars[0][\"index\"])\n",
    "print(output_tensor)"
   ]
  },
  {
   "cell_type": "code",
   "execution_count": 12,
   "id": "5d2057da",
   "metadata": {},
   "outputs": [
    {
     "name": "stdout",
     "output_type": "stream",
     "text": [
      "clase: 4\n"
     ]
    }
   ],
   "source": [
    "print(\"clase:\", np.argmax(output_tensor))"
   ]
  },
  {
   "cell_type": "code",
   "execution_count": null,
   "id": "0a7b32e9",
   "metadata": {},
   "outputs": [],
   "source": []
  }
 ],
 "metadata": {
  "kernelspec": {
   "display_name": "Python 3",
   "language": "python",
   "name": "python3"
  },
  "language_info": {
   "codemirror_mode": {
    "name": "ipython",
    "version": 3
   },
   "file_extension": ".py",
   "mimetype": "text/x-python",
   "name": "python",
   "nbconvert_exporter": "python",
   "pygments_lexer": "ipython3",
   "version": "3.8.10"
  }
 },
 "nbformat": 4,
 "nbformat_minor": 5
}
